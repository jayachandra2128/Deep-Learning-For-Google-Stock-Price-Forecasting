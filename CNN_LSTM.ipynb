{
  "nbformat": 4,
  "nbformat_minor": 0,
  "metadata": {
    "colab": {
      "name": "CNN_LSTM.ipynb",
      "version": "0.3.2",
      "provenance": [],
      "collapsed_sections": [],
      "include_colab_link": true
    },
    "kernelspec": {
      "display_name": "Python 3",
      "language": "python",
      "name": "python3"
    }
  },
  "cells": [
    {
      "cell_type": "markdown",
      "metadata": {
        "id": "view-in-github",
        "colab_type": "text"
      },
      "source": [
        "<a href=\"https://colab.research.google.com/github/jayachandrareddykamineni/Deep-Learning-For-Google-Stock-Price-Forecasting/blob/master/CNN_LSTM.ipynb\" target=\"_parent\"><img src=\"https://colab.research.google.com/assets/colab-badge.svg\" alt=\"Open In Colab\"/></a>"
      ]
    },
    {
      "metadata": {
        "colab_type": "code",
        "id": "S7sHoQ5tkX6m",
        "outputId": "ae53e712-aea8-4e52-9f45-08c1725fe3b9",
        "colab": {
          "base_uri": "https://localhost:8080/",
          "height": 34
        }
      },
      "cell_type": "code",
      "source": [
        "import pandas as pd\n",
        "from keras.layers import Bidirectional, GlobalMaxPool1D, MaxPooling1D, Add, Flatten"
      ],
      "execution_count": 1,
      "outputs": [
        {
          "output_type": "stream",
          "text": [
            "Using TensorFlow backend.\n"
          ],
          "name": "stderr"
        }
      ]
    },
    {
      "metadata": {
        "colab_type": "code",
        "id": "Y2XCznoFke2P",
        "colab": {}
      },
      "cell_type": "code",
      "source": [
        "!pip install -U -q PyDrive"
      ],
      "execution_count": 0,
      "outputs": []
    },
    {
      "metadata": {
        "id": "Il7H864vNwJ5",
        "colab_type": "text"
      },
      "cell_type": "markdown",
      "source": [
        "## Loading Data into Google colab from Drive"
      ]
    },
    {
      "metadata": {
        "colab_type": "code",
        "id": "MwF7rxSPkiGU",
        "colab": {}
      },
      "cell_type": "code",
      "source": [
        "from pydrive.auth import GoogleAuth\n",
        "from pydrive.drive import GoogleDrive\n",
        "from google.colab import auth\n",
        "from oauth2client.client import GoogleCredentials\n",
        "\n",
        "# 1. Authenticate and create the PyDrive client.\n",
        "auth.authenticate_user()\n",
        "gauth = GoogleAuth()\n",
        "gauth.credentials = GoogleCredentials.get_application_default()\n",
        "drive = GoogleDrive(gauth)\n",
        "downloaded = drive.CreateFile({'id':'1dhrosLtDSau1zrmlVmxk84asLmcgDDaJ'}) # replace fileid with Id of file you want to access\n",
        "downloaded.GetContentFile('export.csv') # now you can use export.csv "
      ],
      "execution_count": 0,
      "outputs": []
    },
    {
      "metadata": {
        "colab_type": "code",
        "id": "dMOFX_XIklMI",
        "colab": {}
      },
      "cell_type": "code",
      "source": [
        "data=pd.read_csv(\"export.csv\")"
      ],
      "execution_count": 0,
      "outputs": []
    },
    {
      "metadata": {
        "colab_type": "code",
        "id": "8OzqABHmksvs",
        "outputId": "9ec7a491-5f7c-4ad2-e7e2-f0e26caf28c9",
        "colab": {
          "base_uri": "https://localhost:8080/",
          "height": 204
        }
      },
      "cell_type": "code",
      "source": [
        "data.head()"
      ],
      "execution_count": 5,
      "outputs": [
        {
          "output_type": "execute_result",
          "data": {
            "text/html": [
              "<div>\n",
              "<style scoped>\n",
              "    .dataframe tbody tr th:only-of-type {\n",
              "        vertical-align: middle;\n",
              "    }\n",
              "\n",
              "    .dataframe tbody tr th {\n",
              "        vertical-align: top;\n",
              "    }\n",
              "\n",
              "    .dataframe thead th {\n",
              "        text-align: right;\n",
              "    }\n",
              "</style>\n",
              "<table border=\"1\" class=\"dataframe\">\n",
              "  <thead>\n",
              "    <tr style=\"text-align: right;\">\n",
              "      <th></th>\n",
              "      <th>timestamp</th>\n",
              "      <th>open</th>\n",
              "      <th>high</th>\n",
              "      <th>low</th>\n",
              "      <th>close</th>\n",
              "      <th>volume</th>\n",
              "    </tr>\n",
              "  </thead>\n",
              "  <tbody>\n",
              "    <tr>\n",
              "      <th>0</th>\n",
              "      <td>2018-11-02</td>\n",
              "      <td>1089.00</td>\n",
              "      <td>1098.00</td>\n",
              "      <td>1067.66</td>\n",
              "      <td>1071.49</td>\n",
              "      <td>2172215</td>\n",
              "    </tr>\n",
              "    <tr>\n",
              "      <th>1</th>\n",
              "      <td>2018-11-01</td>\n",
              "      <td>1091.40</td>\n",
              "      <td>1099.90</td>\n",
              "      <td>1077.82</td>\n",
              "      <td>1085.98</td>\n",
              "      <td>2006575</td>\n",
              "    </tr>\n",
              "    <tr>\n",
              "      <th>2</th>\n",
              "      <td>2018-10-31</td>\n",
              "      <td>1068.20</td>\n",
              "      <td>1108.00</td>\n",
              "      <td>1068.20</td>\n",
              "      <td>1090.58</td>\n",
              "      <td>3545821</td>\n",
              "    </tr>\n",
              "    <tr>\n",
              "      <th>3</th>\n",
              "      <td>2018-10-30</td>\n",
              "      <td>1020.01</td>\n",
              "      <td>1050.90</td>\n",
              "      <td>1013.97</td>\n",
              "      <td>1049.51</td>\n",
              "      <td>2988418</td>\n",
              "    </tr>\n",
              "    <tr>\n",
              "      <th>4</th>\n",
              "      <td>2018-10-29</td>\n",
              "      <td>1096.54</td>\n",
              "      <td>1108.83</td>\n",
              "      <td>1007.20</td>\n",
              "      <td>1034.73</td>\n",
              "      <td>4064452</td>\n",
              "    </tr>\n",
              "  </tbody>\n",
              "</table>\n",
              "</div>"
            ],
            "text/plain": [
              "    timestamp     open     high      low    close   volume\n",
              "0  2018-11-02  1089.00  1098.00  1067.66  1071.49  2172215\n",
              "1  2018-11-01  1091.40  1099.90  1077.82  1085.98  2006575\n",
              "2  2018-10-31  1068.20  1108.00  1068.20  1090.58  3545821\n",
              "3  2018-10-30  1020.01  1050.90  1013.97  1049.51  2988418\n",
              "4  2018-10-29  1096.54  1108.83  1007.20  1034.73  4064452"
            ]
          },
          "metadata": {
            "tags": []
          },
          "execution_count": 5
        }
      ]
    },
    {
      "metadata": {
        "colab_type": "code",
        "id": "CAyBLd1FkuVQ",
        "outputId": "7ebcfc9f-dafb-4b6b-dd40-201351130f72",
        "colab": {
          "base_uri": "https://localhost:8080/",
          "height": 204
        }
      },
      "cell_type": "code",
      "source": [
        "data.tail()"
      ],
      "execution_count": 6,
      "outputs": [
        {
          "output_type": "execute_result",
          "data": {
            "text/html": [
              "<div>\n",
              "<style scoped>\n",
              "    .dataframe tbody tr th:only-of-type {\n",
              "        vertical-align: middle;\n",
              "    }\n",
              "\n",
              "    .dataframe tbody tr th {\n",
              "        vertical-align: top;\n",
              "    }\n",
              "\n",
              "    .dataframe thead th {\n",
              "        text-align: right;\n",
              "    }\n",
              "</style>\n",
              "<table border=\"1\" class=\"dataframe\">\n",
              "  <thead>\n",
              "    <tr style=\"text-align: right;\">\n",
              "      <th></th>\n",
              "      <th>timestamp</th>\n",
              "      <th>open</th>\n",
              "      <th>high</th>\n",
              "      <th>low</th>\n",
              "      <th>close</th>\n",
              "      <th>volume</th>\n",
              "    </tr>\n",
              "  </thead>\n",
              "  <tbody>\n",
              "    <tr>\n",
              "      <th>3574</th>\n",
              "      <td>2004-08-25</td>\n",
              "      <td>104.76</td>\n",
              "      <td>108.00</td>\n",
              "      <td>103.88</td>\n",
              "      <td>106.000</td>\n",
              "      <td>9188600</td>\n",
              "    </tr>\n",
              "    <tr>\n",
              "      <th>3575</th>\n",
              "      <td>2004-08-24</td>\n",
              "      <td>111.24</td>\n",
              "      <td>111.60</td>\n",
              "      <td>103.57</td>\n",
              "      <td>104.870</td>\n",
              "      <td>15247300</td>\n",
              "    </tr>\n",
              "    <tr>\n",
              "      <th>3576</th>\n",
              "      <td>2004-08-23</td>\n",
              "      <td>110.76</td>\n",
              "      <td>113.48</td>\n",
              "      <td>109.05</td>\n",
              "      <td>109.400</td>\n",
              "      <td>18256100</td>\n",
              "    </tr>\n",
              "    <tr>\n",
              "      <th>3577</th>\n",
              "      <td>2004-08-20</td>\n",
              "      <td>101.01</td>\n",
              "      <td>109.08</td>\n",
              "      <td>100.50</td>\n",
              "      <td>108.310</td>\n",
              "      <td>22834300</td>\n",
              "    </tr>\n",
              "    <tr>\n",
              "      <th>3578</th>\n",
              "      <td>2004-08-19</td>\n",
              "      <td>100.01</td>\n",
              "      <td>104.06</td>\n",
              "      <td>95.96</td>\n",
              "      <td>100.335</td>\n",
              "      <td>44659000</td>\n",
              "    </tr>\n",
              "  </tbody>\n",
              "</table>\n",
              "</div>"
            ],
            "text/plain": [
              "       timestamp    open    high     low    close    volume\n",
              "3574  2004-08-25  104.76  108.00  103.88  106.000   9188600\n",
              "3575  2004-08-24  111.24  111.60  103.57  104.870  15247300\n",
              "3576  2004-08-23  110.76  113.48  109.05  109.400  18256100\n",
              "3577  2004-08-20  101.01  109.08  100.50  108.310  22834300\n",
              "3578  2004-08-19  100.01  104.06   95.96  100.335  44659000"
            ]
          },
          "metadata": {
            "tags": []
          },
          "execution_count": 6
        }
      ]
    },
    {
      "metadata": {
        "colab_type": "code",
        "id": "rJhypXnqkwTO",
        "colab": {}
      },
      "cell_type": "code",
      "source": [
        "data=data[data.iloc[:,0]>='2013-01-01']"
      ],
      "execution_count": 0,
      "outputs": []
    },
    {
      "metadata": {
        "colab_type": "code",
        "id": "kMUjk0-5lO6E",
        "outputId": "6e9d9c3f-447a-4c2f-bcb1-b106320ff97d",
        "colab": {
          "base_uri": "https://localhost:8080/",
          "height": 204
        }
      },
      "cell_type": "code",
      "source": [
        "data.tail()"
      ],
      "execution_count": 8,
      "outputs": [
        {
          "output_type": "execute_result",
          "data": {
            "text/html": [
              "<div>\n",
              "<style scoped>\n",
              "    .dataframe tbody tr th:only-of-type {\n",
              "        vertical-align: middle;\n",
              "    }\n",
              "\n",
              "    .dataframe tbody tr th {\n",
              "        vertical-align: top;\n",
              "    }\n",
              "\n",
              "    .dataframe thead th {\n",
              "        text-align: right;\n",
              "    }\n",
              "</style>\n",
              "<table border=\"1\" class=\"dataframe\">\n",
              "  <thead>\n",
              "    <tr style=\"text-align: right;\">\n",
              "      <th></th>\n",
              "      <th>timestamp</th>\n",
              "      <th>open</th>\n",
              "      <th>high</th>\n",
              "      <th>low</th>\n",
              "      <th>close</th>\n",
              "      <th>volume</th>\n",
              "    </tr>\n",
              "  </thead>\n",
              "  <tbody>\n",
              "    <tr>\n",
              "      <th>1467</th>\n",
              "      <td>2013-01-08</td>\n",
              "      <td>735.54</td>\n",
              "      <td>736.2999</td>\n",
              "      <td>724.4300</td>\n",
              "      <td>733.30</td>\n",
              "      <td>3348800</td>\n",
              "    </tr>\n",
              "    <tr>\n",
              "      <th>1468</th>\n",
              "      <td>2013-01-07</td>\n",
              "      <td>735.45</td>\n",
              "      <td>739.3800</td>\n",
              "      <td>730.5800</td>\n",
              "      <td>734.75</td>\n",
              "      <td>3308000</td>\n",
              "    </tr>\n",
              "    <tr>\n",
              "      <th>1469</th>\n",
              "      <td>2013-01-04</td>\n",
              "      <td>729.34</td>\n",
              "      <td>741.4700</td>\n",
              "      <td>727.6801</td>\n",
              "      <td>737.97</td>\n",
              "      <td>5521400</td>\n",
              "    </tr>\n",
              "    <tr>\n",
              "      <th>1470</th>\n",
              "      <td>2013-01-03</td>\n",
              "      <td>724.93</td>\n",
              "      <td>731.9300</td>\n",
              "      <td>720.7200</td>\n",
              "      <td>723.67</td>\n",
              "      <td>4631700</td>\n",
              "    </tr>\n",
              "    <tr>\n",
              "      <th>1471</th>\n",
              "      <td>2013-01-02</td>\n",
              "      <td>719.42</td>\n",
              "      <td>727.0000</td>\n",
              "      <td>716.5500</td>\n",
              "      <td>723.25</td>\n",
              "      <td>5077500</td>\n",
              "    </tr>\n",
              "  </tbody>\n",
              "</table>\n",
              "</div>"
            ],
            "text/plain": [
              "       timestamp    open      high       low   close   volume\n",
              "1467  2013-01-08  735.54  736.2999  724.4300  733.30  3348800\n",
              "1468  2013-01-07  735.45  739.3800  730.5800  734.75  3308000\n",
              "1469  2013-01-04  729.34  741.4700  727.6801  737.97  5521400\n",
              "1470  2013-01-03  724.93  731.9300  720.7200  723.67  4631700\n",
              "1471  2013-01-02  719.42  727.0000  716.5500  723.25  5077500"
            ]
          },
          "metadata": {
            "tags": []
          },
          "execution_count": 8
        }
      ]
    },
    {
      "metadata": {
        "colab_type": "code",
        "id": "ZptdYukJmB1W",
        "outputId": "bcf0744d-78b8-4ae5-ae80-d53fb835e563",
        "colab": {
          "base_uri": "https://localhost:8080/",
          "height": 204
        }
      },
      "cell_type": "code",
      "source": [
        "data.head()"
      ],
      "execution_count": 9,
      "outputs": [
        {
          "output_type": "execute_result",
          "data": {
            "text/html": [
              "<div>\n",
              "<style scoped>\n",
              "    .dataframe tbody tr th:only-of-type {\n",
              "        vertical-align: middle;\n",
              "    }\n",
              "\n",
              "    .dataframe tbody tr th {\n",
              "        vertical-align: top;\n",
              "    }\n",
              "\n",
              "    .dataframe thead th {\n",
              "        text-align: right;\n",
              "    }\n",
              "</style>\n",
              "<table border=\"1\" class=\"dataframe\">\n",
              "  <thead>\n",
              "    <tr style=\"text-align: right;\">\n",
              "      <th></th>\n",
              "      <th>timestamp</th>\n",
              "      <th>open</th>\n",
              "      <th>high</th>\n",
              "      <th>low</th>\n",
              "      <th>close</th>\n",
              "      <th>volume</th>\n",
              "    </tr>\n",
              "  </thead>\n",
              "  <tbody>\n",
              "    <tr>\n",
              "      <th>0</th>\n",
              "      <td>2018-11-02</td>\n",
              "      <td>1089.00</td>\n",
              "      <td>1098.00</td>\n",
              "      <td>1067.66</td>\n",
              "      <td>1071.49</td>\n",
              "      <td>2172215</td>\n",
              "    </tr>\n",
              "    <tr>\n",
              "      <th>1</th>\n",
              "      <td>2018-11-01</td>\n",
              "      <td>1091.40</td>\n",
              "      <td>1099.90</td>\n",
              "      <td>1077.82</td>\n",
              "      <td>1085.98</td>\n",
              "      <td>2006575</td>\n",
              "    </tr>\n",
              "    <tr>\n",
              "      <th>2</th>\n",
              "      <td>2018-10-31</td>\n",
              "      <td>1068.20</td>\n",
              "      <td>1108.00</td>\n",
              "      <td>1068.20</td>\n",
              "      <td>1090.58</td>\n",
              "      <td>3545821</td>\n",
              "    </tr>\n",
              "    <tr>\n",
              "      <th>3</th>\n",
              "      <td>2018-10-30</td>\n",
              "      <td>1020.01</td>\n",
              "      <td>1050.90</td>\n",
              "      <td>1013.97</td>\n",
              "      <td>1049.51</td>\n",
              "      <td>2988418</td>\n",
              "    </tr>\n",
              "    <tr>\n",
              "      <th>4</th>\n",
              "      <td>2018-10-29</td>\n",
              "      <td>1096.54</td>\n",
              "      <td>1108.83</td>\n",
              "      <td>1007.20</td>\n",
              "      <td>1034.73</td>\n",
              "      <td>4064452</td>\n",
              "    </tr>\n",
              "  </tbody>\n",
              "</table>\n",
              "</div>"
            ],
            "text/plain": [
              "    timestamp     open     high      low    close   volume\n",
              "0  2018-11-02  1089.00  1098.00  1067.66  1071.49  2172215\n",
              "1  2018-11-01  1091.40  1099.90  1077.82  1085.98  2006575\n",
              "2  2018-10-31  1068.20  1108.00  1068.20  1090.58  3545821\n",
              "3  2018-10-30  1020.01  1050.90  1013.97  1049.51  2988418\n",
              "4  2018-10-29  1096.54  1108.83  1007.20  1034.73  4064452"
            ]
          },
          "metadata": {
            "tags": []
          },
          "execution_count": 9
        }
      ]
    },
    {
      "metadata": {
        "colab_type": "code",
        "id": "ECs8pqKDmyHL",
        "colab": {}
      },
      "cell_type": "code",
      "source": [
        "train_data=data[data.iloc[:,0]<'2018-08-01']\n",
        "train_data=train_data.iloc[::-1]"
      ],
      "execution_count": 0,
      "outputs": []
    },
    {
      "metadata": {
        "colab_type": "code",
        "id": "egdiF0zMnJpZ",
        "outputId": "3ad77085-a9a0-4731-8879-fcd778f1621e",
        "colab": {
          "base_uri": "https://localhost:8080/",
          "height": 204
        }
      },
      "cell_type": "code",
      "source": [
        "train_data.head()"
      ],
      "execution_count": 11,
      "outputs": [
        {
          "output_type": "execute_result",
          "data": {
            "text/html": [
              "<div>\n",
              "<style scoped>\n",
              "    .dataframe tbody tr th:only-of-type {\n",
              "        vertical-align: middle;\n",
              "    }\n",
              "\n",
              "    .dataframe tbody tr th {\n",
              "        vertical-align: top;\n",
              "    }\n",
              "\n",
              "    .dataframe thead th {\n",
              "        text-align: right;\n",
              "    }\n",
              "</style>\n",
              "<table border=\"1\" class=\"dataframe\">\n",
              "  <thead>\n",
              "    <tr style=\"text-align: right;\">\n",
              "      <th></th>\n",
              "      <th>timestamp</th>\n",
              "      <th>open</th>\n",
              "      <th>high</th>\n",
              "      <th>low</th>\n",
              "      <th>close</th>\n",
              "      <th>volume</th>\n",
              "    </tr>\n",
              "  </thead>\n",
              "  <tbody>\n",
              "    <tr>\n",
              "      <th>1471</th>\n",
              "      <td>2013-01-02</td>\n",
              "      <td>719.42</td>\n",
              "      <td>727.0000</td>\n",
              "      <td>716.5500</td>\n",
              "      <td>723.25</td>\n",
              "      <td>5077500</td>\n",
              "    </tr>\n",
              "    <tr>\n",
              "      <th>1470</th>\n",
              "      <td>2013-01-03</td>\n",
              "      <td>724.93</td>\n",
              "      <td>731.9300</td>\n",
              "      <td>720.7200</td>\n",
              "      <td>723.67</td>\n",
              "      <td>4631700</td>\n",
              "    </tr>\n",
              "    <tr>\n",
              "      <th>1469</th>\n",
              "      <td>2013-01-04</td>\n",
              "      <td>729.34</td>\n",
              "      <td>741.4700</td>\n",
              "      <td>727.6801</td>\n",
              "      <td>737.97</td>\n",
              "      <td>5521400</td>\n",
              "    </tr>\n",
              "    <tr>\n",
              "      <th>1468</th>\n",
              "      <td>2013-01-07</td>\n",
              "      <td>735.45</td>\n",
              "      <td>739.3800</td>\n",
              "      <td>730.5800</td>\n",
              "      <td>734.75</td>\n",
              "      <td>3308000</td>\n",
              "    </tr>\n",
              "    <tr>\n",
              "      <th>1467</th>\n",
              "      <td>2013-01-08</td>\n",
              "      <td>735.54</td>\n",
              "      <td>736.2999</td>\n",
              "      <td>724.4300</td>\n",
              "      <td>733.30</td>\n",
              "      <td>3348800</td>\n",
              "    </tr>\n",
              "  </tbody>\n",
              "</table>\n",
              "</div>"
            ],
            "text/plain": [
              "       timestamp    open      high       low   close   volume\n",
              "1471  2013-01-02  719.42  727.0000  716.5500  723.25  5077500\n",
              "1470  2013-01-03  724.93  731.9300  720.7200  723.67  4631700\n",
              "1469  2013-01-04  729.34  741.4700  727.6801  737.97  5521400\n",
              "1468  2013-01-07  735.45  739.3800  730.5800  734.75  3308000\n",
              "1467  2013-01-08  735.54  736.2999  724.4300  733.30  3348800"
            ]
          },
          "metadata": {
            "tags": []
          },
          "execution_count": 11
        }
      ]
    },
    {
      "metadata": {
        "colab_type": "code",
        "id": "C57eNTPqnTXK",
        "outputId": "931a1cfc-2714-4d61-d32d-165af41e4fcd",
        "colab": {
          "base_uri": "https://localhost:8080/",
          "height": 204
        }
      },
      "cell_type": "code",
      "source": [
        "train_data.tail()"
      ],
      "execution_count": 12,
      "outputs": [
        {
          "output_type": "execute_result",
          "data": {
            "text/html": [
              "<div>\n",
              "<style scoped>\n",
              "    .dataframe tbody tr th:only-of-type {\n",
              "        vertical-align: middle;\n",
              "    }\n",
              "\n",
              "    .dataframe tbody tr th {\n",
              "        vertical-align: top;\n",
              "    }\n",
              "\n",
              "    .dataframe thead th {\n",
              "        text-align: right;\n",
              "    }\n",
              "</style>\n",
              "<table border=\"1\" class=\"dataframe\">\n",
              "  <thead>\n",
              "    <tr style=\"text-align: right;\">\n",
              "      <th></th>\n",
              "      <th>timestamp</th>\n",
              "      <th>open</th>\n",
              "      <th>high</th>\n",
              "      <th>low</th>\n",
              "      <th>close</th>\n",
              "      <th>volume</th>\n",
              "    </tr>\n",
              "  </thead>\n",
              "  <tbody>\n",
              "    <tr>\n",
              "      <th>71</th>\n",
              "      <td>2018-07-25</td>\n",
              "      <td>1252.62</td>\n",
              "      <td>1278.24</td>\n",
              "      <td>1249.05</td>\n",
              "      <td>1275.94</td>\n",
              "      <td>2575437</td>\n",
              "    </tr>\n",
              "    <tr>\n",
              "      <th>70</th>\n",
              "      <td>2018-07-26</td>\n",
              "      <td>1267.18</td>\n",
              "      <td>1287.40</td>\n",
              "      <td>1263.00</td>\n",
              "      <td>1285.50</td>\n",
              "      <td>2734302</td>\n",
              "    </tr>\n",
              "    <tr>\n",
              "      <th>69</th>\n",
              "      <td>2018-07-27</td>\n",
              "      <td>1289.12</td>\n",
              "      <td>1291.44</td>\n",
              "      <td>1244.49</td>\n",
              "      <td>1252.89</td>\n",
              "      <td>2418090</td>\n",
              "    </tr>\n",
              "    <tr>\n",
              "      <th>68</th>\n",
              "      <td>2018-07-30</td>\n",
              "      <td>1245.05</td>\n",
              "      <td>1252.89</td>\n",
              "      <td>1224.17</td>\n",
              "      <td>1230.04</td>\n",
              "      <td>2194837</td>\n",
              "    </tr>\n",
              "    <tr>\n",
              "      <th>67</th>\n",
              "      <td>2018-07-31</td>\n",
              "      <td>1231.71</td>\n",
              "      <td>1241.21</td>\n",
              "      <td>1216.19</td>\n",
              "      <td>1227.22</td>\n",
              "      <td>1969111</td>\n",
              "    </tr>\n",
              "  </tbody>\n",
              "</table>\n",
              "</div>"
            ],
            "text/plain": [
              "     timestamp     open     high      low    close   volume\n",
              "71  2018-07-25  1252.62  1278.24  1249.05  1275.94  2575437\n",
              "70  2018-07-26  1267.18  1287.40  1263.00  1285.50  2734302\n",
              "69  2018-07-27  1289.12  1291.44  1244.49  1252.89  2418090\n",
              "68  2018-07-30  1245.05  1252.89  1224.17  1230.04  2194837\n",
              "67  2018-07-31  1231.71  1241.21  1216.19  1227.22  1969111"
            ]
          },
          "metadata": {
            "tags": []
          },
          "execution_count": 12
        }
      ]
    },
    {
      "metadata": {
        "colab_type": "code",
        "id": "dd9vx9ImnW6T",
        "outputId": "aca7378a-f4ee-4598-da5a-faf7be8c6597",
        "colab": {
          "base_uri": "https://localhost:8080/",
          "height": 34
        }
      },
      "cell_type": "code",
      "source": [
        "train_data.shape"
      ],
      "execution_count": 13,
      "outputs": [
        {
          "output_type": "execute_result",
          "data": {
            "text/plain": [
              "(1405, 6)"
            ]
          },
          "metadata": {
            "tags": []
          },
          "execution_count": 13
        }
      ]
    },
    {
      "metadata": {
        "colab_type": "code",
        "id": "op-3zi8RnaLN",
        "colab": {}
      },
      "cell_type": "code",
      "source": [
        "test_data=data[data.iloc[:,0]>='2018-08-01']"
      ],
      "execution_count": 0,
      "outputs": []
    },
    {
      "metadata": {
        "colab_type": "code",
        "id": "lFyN8fhInihV",
        "outputId": "64636240-41fb-4a4e-e48a-94f90ba6a67d",
        "colab": {
          "base_uri": "https://localhost:8080/",
          "height": 204
        }
      },
      "cell_type": "code",
      "source": [
        "test_data=test_data.iloc[::-1]\n",
        "test_data.tail()"
      ],
      "execution_count": 15,
      "outputs": [
        {
          "output_type": "execute_result",
          "data": {
            "text/html": [
              "<div>\n",
              "<style scoped>\n",
              "    .dataframe tbody tr th:only-of-type {\n",
              "        vertical-align: middle;\n",
              "    }\n",
              "\n",
              "    .dataframe tbody tr th {\n",
              "        vertical-align: top;\n",
              "    }\n",
              "\n",
              "    .dataframe thead th {\n",
              "        text-align: right;\n",
              "    }\n",
              "</style>\n",
              "<table border=\"1\" class=\"dataframe\">\n",
              "  <thead>\n",
              "    <tr style=\"text-align: right;\">\n",
              "      <th></th>\n",
              "      <th>timestamp</th>\n",
              "      <th>open</th>\n",
              "      <th>high</th>\n",
              "      <th>low</th>\n",
              "      <th>close</th>\n",
              "      <th>volume</th>\n",
              "    </tr>\n",
              "  </thead>\n",
              "  <tbody>\n",
              "    <tr>\n",
              "      <th>4</th>\n",
              "      <td>2018-10-29</td>\n",
              "      <td>1096.54</td>\n",
              "      <td>1108.83</td>\n",
              "      <td>1007.20</td>\n",
              "      <td>1034.73</td>\n",
              "      <td>4064452</td>\n",
              "    </tr>\n",
              "    <tr>\n",
              "      <th>3</th>\n",
              "      <td>2018-10-30</td>\n",
              "      <td>1020.01</td>\n",
              "      <td>1050.90</td>\n",
              "      <td>1013.97</td>\n",
              "      <td>1049.51</td>\n",
              "      <td>2988418</td>\n",
              "    </tr>\n",
              "    <tr>\n",
              "      <th>2</th>\n",
              "      <td>2018-10-31</td>\n",
              "      <td>1068.20</td>\n",
              "      <td>1108.00</td>\n",
              "      <td>1068.20</td>\n",
              "      <td>1090.58</td>\n",
              "      <td>3545821</td>\n",
              "    </tr>\n",
              "    <tr>\n",
              "      <th>1</th>\n",
              "      <td>2018-11-01</td>\n",
              "      <td>1091.40</td>\n",
              "      <td>1099.90</td>\n",
              "      <td>1077.82</td>\n",
              "      <td>1085.98</td>\n",
              "      <td>2006575</td>\n",
              "    </tr>\n",
              "    <tr>\n",
              "      <th>0</th>\n",
              "      <td>2018-11-02</td>\n",
              "      <td>1089.00</td>\n",
              "      <td>1098.00</td>\n",
              "      <td>1067.66</td>\n",
              "      <td>1071.49</td>\n",
              "      <td>2172215</td>\n",
              "    </tr>\n",
              "  </tbody>\n",
              "</table>\n",
              "</div>"
            ],
            "text/plain": [
              "    timestamp     open     high      low    close   volume\n",
              "4  2018-10-29  1096.54  1108.83  1007.20  1034.73  4064452\n",
              "3  2018-10-30  1020.01  1050.90  1013.97  1049.51  2988418\n",
              "2  2018-10-31  1068.20  1108.00  1068.20  1090.58  3545821\n",
              "1  2018-11-01  1091.40  1099.90  1077.82  1085.98  2006575\n",
              "0  2018-11-02  1089.00  1098.00  1067.66  1071.49  2172215"
            ]
          },
          "metadata": {
            "tags": []
          },
          "execution_count": 15
        }
      ]
    },
    {
      "metadata": {
        "colab_type": "code",
        "id": "ACVDz_xKnjY9",
        "colab": {}
      },
      "cell_type": "code",
      "source": [
        "training_set = train_data.iloc[:, 1:2].values\n",
        "#training_set"
      ],
      "execution_count": 0,
      "outputs": []
    },
    {
      "metadata": {
        "colab_type": "code",
        "id": "6awmX_w5QicT",
        "colab": {}
      },
      "cell_type": "code",
      "source": [
        "import numpy as np\n",
        "#training_set=np.flipud(training_set) "
      ],
      "execution_count": 0,
      "outputs": []
    },
    {
      "metadata": {
        "colab_type": "code",
        "id": "_MrpH8YooHdX",
        "colab": {}
      },
      "cell_type": "code",
      "source": [
        "real_stock_price = test_data.iloc[:, 1:2].values"
      ],
      "execution_count": 0,
      "outputs": []
    },
    {
      "metadata": {
        "colab_type": "code",
        "id": "mD93r6TConhM",
        "outputId": "bf26f7b0-d713-4f11-a767-7a63892bb657",
        "colab": {
          "base_uri": "https://localhost:8080/",
          "height": 1156
        }
      },
      "cell_type": "code",
      "source": [
        "real_stock_price\n",
        "#real_stock_price=np.flipud(real_stock_price)"
      ],
      "execution_count": 19,
      "outputs": [
        {
          "output_type": "execute_result",
          "data": {
            "text/plain": [
              "array([[1239.11],\n",
              "       [1218.5 ],\n",
              "       [1245.18],\n",
              "       [1241.61],\n",
              "       [1252.01],\n",
              "       [1256.72],\n",
              "       [1262.73],\n",
              "       [1259.18],\n",
              "       [1251.2 ],\n",
              "       [1252.5 ],\n",
              "       [1244.28],\n",
              "       [1241.99],\n",
              "       [1222.04],\n",
              "       [1220.66],\n",
              "       [1223.02],\n",
              "       [1214.22],\n",
              "       [1219.88],\n",
              "       [1226.  ],\n",
              "       [1244.14],\n",
              "       [1255.9 ],\n",
              "       [1255.  ],\n",
              "       [1263.4 ],\n",
              "       [1252.21],\n",
              "       [1222.52],\n",
              "       [1209.22],\n",
              "       [1198.57],\n",
              "       [1172.  ],\n",
              "       [1184.2 ],\n",
              "       [1171.1 ],\n",
              "       [1182.  ],\n",
              "       [1179.7 ],\n",
              "       [1188.  ],\n",
              "       [1177.77],\n",
              "       [1162.66],\n",
              "       [1168.96],\n",
              "       [1180.67],\n",
              "       [1194.92],\n",
              "       [1159.41],\n",
              "       [1184.25],\n",
              "       [1193.69],\n",
              "       [1200.  ],\n",
              "       [1204.09],\n",
              "       [1213.  ],\n",
              "       [1206.67],\n",
              "       [1212.  ],\n",
              "       [1205.03],\n",
              "       [1176.  ],\n",
              "       [1160.  ],\n",
              "       [1151.31],\n",
              "       [1136.4 ],\n",
              "       [1079.04],\n",
              "       [1119.64],\n",
              "       [1118.  ],\n",
              "       [1113.48],\n",
              "       [1140.  ],\n",
              "       [1130.  ],\n",
              "       [1103.71],\n",
              "       [1112.51],\n",
              "       [1091.29],\n",
              "       [1115.  ],\n",
              "       [1080.3 ],\n",
              "       [1048.33],\n",
              "       [1096.54],\n",
              "       [1020.01],\n",
              "       [1068.2 ],\n",
              "       [1091.4 ],\n",
              "       [1089.  ]])"
            ]
          },
          "metadata": {
            "tags": []
          },
          "execution_count": 19
        }
      ]
    },
    {
      "metadata": {
        "colab_type": "code",
        "id": "yyWElzzZophx",
        "colab": {}
      },
      "cell_type": "code",
      "source": [
        "from sklearn.preprocessing import MinMaxScaler\n",
        "sc = MinMaxScaler(feature_range = (0, 1))\n",
        "training_set_scaled = sc.fit_transform(training_set)"
      ],
      "execution_count": 0,
      "outputs": []
    },
    {
      "metadata": {
        "colab_type": "code",
        "id": "fbMaG0IDpLsf",
        "outputId": "38d91f77-0259-4850-b0ff-65db6a5200ac",
        "colab": {
          "base_uri": "https://localhost:8080/",
          "height": 34
        }
      },
      "cell_type": "code",
      "source": [
        "training_set_scaled.shape"
      ],
      "execution_count": 21,
      "outputs": [
        {
          "output_type": "execute_result",
          "data": {
            "text/plain": [
              "(1405, 1)"
            ]
          },
          "metadata": {
            "tags": []
          },
          "execution_count": 21
        }
      ]
    },
    {
      "metadata": {
        "colab_type": "code",
        "id": "gLGRZ89OpNrN",
        "colab": {}
      },
      "cell_type": "code",
      "source": [
        "import numpy as np\n",
        "X_train = []\n",
        "y_train = []\n",
        "for i in range(60, 1405):\n",
        "    X_train.append(training_set_scaled[i-60:i, 0])\n",
        "    y_train.append(training_set_scaled[i, 0])\n",
        "X_train, y_train = np.array(X_train), np.array(y_train)"
      ],
      "execution_count": 0,
      "outputs": []
    },
    {
      "metadata": {
        "colab_type": "code",
        "id": "YyV4CgybpQQl",
        "outputId": "f475022f-a08d-48e7-9cca-f350625f11a3",
        "colab": {
          "base_uri": "https://localhost:8080/",
          "height": 136
        }
      },
      "cell_type": "code",
      "source": [
        "print(X_train)"
      ],
      "execution_count": 23,
      "outputs": [
        {
          "output_type": "stream",
          "text": [
            "[[0.2787512  0.28572695 0.29131007 ... 0.3978579  0.38922368 0.3858181 ]\n",
            " [0.28572695 0.29131007 0.29904542 ... 0.38922368 0.3858181  0.37444928]\n",
            " [0.29131007 0.29904542 0.29915937 ... 0.3858181  0.37444928 0.38651441]\n",
            " ...\n",
            " [0.67701423 0.66608852 0.65879627 ... 0.97705981 0.95379045 0.97222363]\n",
            " [0.66608852 0.65879627 0.70219527 ... 0.95379045 0.97222363 1.        ]\n",
            " [0.65879627 0.70219527 0.71577961 ... 0.97222363 1.         0.94420671]]\n"
          ],
          "name": "stdout"
        }
      ]
    },
    {
      "metadata": {
        "colab_type": "code",
        "id": "dNvE7i--pVpb",
        "outputId": "2764b93c-6dd1-42ee-8bc2-6bb724f3ba98",
        "colab": {
          "base_uri": "https://localhost:8080/",
          "height": 34
        }
      },
      "cell_type": "code",
      "source": [
        "print(y_train)"
      ],
      "execution_count": 24,
      "outputs": [
        {
          "output_type": "stream",
          "text": [
            "[0.37444928 0.38651441 0.39780726 ... 1.         0.94420671 0.92731807]\n"
          ],
          "name": "stdout"
        }
      ]
    },
    {
      "metadata": {
        "colab_type": "code",
        "id": "3bXtKgIOpYDL",
        "colab": {}
      },
      "cell_type": "code",
      "source": [
        "X_train = np.reshape(X_train, (X_train.shape[0], X_train.shape[1], 1))"
      ],
      "execution_count": 0,
      "outputs": []
    },
    {
      "metadata": {
        "colab_type": "code",
        "id": "_0y5qOJUpazD",
        "outputId": "c620aa63-afea-400c-f640-4289e21d800f",
        "colab": {
          "base_uri": "https://localhost:8080/",
          "height": 34
        }
      },
      "cell_type": "code",
      "source": [
        "\n",
        "X_train.shape"
      ],
      "execution_count": 26,
      "outputs": [
        {
          "output_type": "execute_result",
          "data": {
            "text/plain": [
              "(1345, 60, 1)"
            ]
          },
          "metadata": {
            "tags": []
          },
          "execution_count": 26
        }
      ]
    },
    {
      "metadata": {
        "colab_type": "code",
        "id": "99gifmnMpcD3",
        "colab": {}
      },
      "cell_type": "code",
      "source": [
        "from keras.models import Sequential\n",
        "from keras.layers import Dense\n",
        "from keras.layers import LSTM,GRU\n",
        "from keras.layers import Dropout\n",
        "from keras.models import Sequential\n",
        "from keras.layers.core import Dense, Dropout, Activation, Flatten\n",
        "from keras.layers.recurrent import LSTM, GRU\n",
        "from keras.layers import Convolution1D, MaxPooling1D, AtrousConvolution1D, RepeatVector\n",
        "from keras.callbacks import ModelCheckpoint, ReduceLROnPlateau, CSVLogger\n",
        "from keras.layers.wrappers import Bidirectional\n",
        "from keras import regularizers\n",
        "from keras.layers.normalization import BatchNormalization\n",
        "from keras.layers.advanced_activations import *\n",
        "from keras.optimizers import RMSprop, Adam, SGD, Nadam\n",
        "from keras.initializers import *\n",
        "from keras.layers import Dense, Input, LSTM, Embedding, Dropout, Activation, Conv1D, GRU, CuDNNGRU, CuDNNLSTM, BatchNormalization\n",
        "from keras.layers import Bidirectional, GlobalMaxPool1D, MaxPooling1D, Add, Flatten\n",
        "from keras.layers import GlobalAveragePooling1D, GlobalMaxPooling1D, concatenate, SpatialDropout1D"
      ],
      "execution_count": 0,
      "outputs": []
    },
    {
      "metadata": {
        "colab_type": "code",
        "id": "GxERB11sUPzj",
        "outputId": "d89dc8f0-348a-4189-da53-a61bdde604aa",
        "colab": {
          "base_uri": "https://localhost:8080/",
          "height": 34
        }
      },
      "cell_type": "code",
      "source": [
        "X_train.shape[1]"
      ],
      "execution_count": 28,
      "outputs": [
        {
          "output_type": "execute_result",
          "data": {
            "text/plain": [
              "60"
            ]
          },
          "metadata": {
            "tags": []
          },
          "execution_count": 28
        }
      ]
    },
    {
      "metadata": {
        "colab_type": "code",
        "id": "MTczkD62pyKN",
        "colab": {}
      },
      "cell_type": "code",
      "source": [
        "regressor = Sequential()"
      ],
      "execution_count": 0,
      "outputs": []
    },
    {
      "metadata": {
        "colab_type": "code",
        "id": "ZJ2yvSb-ycD0",
        "outputId": "16ff85b7-75c6-4fb9-80fc-2fa74d1f7fdd",
        "colab": {
          "base_uri": "https://localhost:8080/",
          "height": 122
        }
      },
      "cell_type": "code",
      "source": [
        "regressor.add(Convolution1D(input_shape = (60, 1),\n",
        "nb_filter=16,\n",
        "filter_length=60,\n",
        "border_mode=\"same\"))\n",
        "#regressor.add(BatchNormalization())\n",
        "regressor.add(LeakyReLU())\n",
        "regressor.add(Dropout(0.1))\n",
        "\n",
        "regressor.add(Convolution1D(nb_filter=16,\n",
        "filter_length=8,\n",
        "border_mode=\"same\"))\n",
        "#regressor.add(BatchNormalization())\n",
        "regressor.add(LeakyReLU())\n",
        "regressor.add(Dropout(0.1))\n",
        "\n",
        "regressor.add(Convolution1D(nb_filter=8,\n",
        "filter_length=4,\n",
        "border_mode=\"same\"))\n",
        "#regressor.add(BatchNormalization())\n",
        "regressor.add(LeakyReLU())\n",
        "regressor.add(Dropout(0.1))\n",
        "\n",
        "\n",
        "\n",
        "regressor.add(MaxPooling1D(pool_size=2))\n",
        "\n",
        "regressor.add(LSTM(150,return_sequences=True))\n",
        "regressor.add(Dropout(0.1))\n",
        "\n",
        "\n",
        "regressor.add(LSTM(150))\n",
        "#regressor.add(BatchNormalization())\n",
        "regressor.add(LeakyReLU())\n",
        "regressor.add(Dropout(0.1))\n",
        "\n",
        "\n",
        "\n",
        " \n",
        "regressor.add(Dense(128))\n",
        "#regressor.add(BatchNormalization())\n",
        "regressor.add(LeakyReLU())\n",
        "regressor.add(Dropout(0.2))\n",
        "\n",
        "regressor.add(Dense(64))\n",
        "#regressor.add(BatchNormalization())\n",
        "regressor.add(LeakyReLU())\n",
        "regressor.add(Dropout(0.2))\n",
        " \n",
        "\n",
        "regressor.add(Dense(64))\n",
        "#regressor.add(BatchNormalization())\n",
        "regressor.add(LeakyReLU())\n",
        "regressor.add(Dropout(0.2))\n",
        "\n",
        "\n",
        "\n",
        "regressor.add(Dense(1))\n",
        "regressor.add(Activation('tanh'))"
      ],
      "execution_count": 30,
      "outputs": [
        {
          "output_type": "stream",
          "text": [
            "/usr/local/lib/python3.6/dist-packages/ipykernel_launcher.py:4: UserWarning: Update your `Conv1D` call to the Keras 2 API: `Conv1D(input_shape=(60, 1), filters=16, kernel_size=60, padding=\"same\")`\n",
            "  after removing the cwd from sys.path.\n",
            "/usr/local/lib/python3.6/dist-packages/ipykernel_launcher.py:11: UserWarning: Update your `Conv1D` call to the Keras 2 API: `Conv1D(filters=16, kernel_size=8, padding=\"same\")`\n",
            "  # This is added back by InteractiveShellApp.init_path()\n",
            "/usr/local/lib/python3.6/dist-packages/ipykernel_launcher.py:18: UserWarning: Update your `Conv1D` call to the Keras 2 API: `Conv1D(filters=8, kernel_size=4, padding=\"same\")`\n"
          ],
          "name": "stderr"
        }
      ]
    },
    {
      "metadata": {
        "colab_type": "code",
        "id": "jAdjBgN1qAYD",
        "colab": {}
      },
      "cell_type": "code",
      "source": [
        "\n",
        "regressor.compile(optimizer = 'adam', loss = 'mean_squared_error')"
      ],
      "execution_count": 0,
      "outputs": []
    },
    {
      "metadata": {
        "colab_type": "code",
        "id": "1uwhJZsFqDGd",
        "outputId": "f36dbc22-44da-4f9e-ca38-e8579e61daf1",
        "colab": {
          "base_uri": "https://localhost:8080/",
          "height": 3434
        }
      },
      "cell_type": "code",
      "source": [
        "regressor.fit(X_train, y_train, epochs = 100, batch_size = 50)"
      ],
      "execution_count": 32,
      "outputs": [
        {
          "output_type": "stream",
          "text": [
            "Epoch 1/100\n",
            "1345/1345 [==============================] - 7s 5ms/step - loss: 0.0620\n",
            "Epoch 2/100\n",
            "1345/1345 [==============================] - 4s 3ms/step - loss: 0.0164\n",
            "Epoch 3/100\n",
            "1345/1345 [==============================] - 4s 3ms/step - loss: 0.0101\n",
            "Epoch 4/100\n",
            "1345/1345 [==============================] - 4s 3ms/step - loss: 0.0082\n",
            "Epoch 5/100\n",
            "1345/1345 [==============================] - 4s 3ms/step - loss: 0.0064\n",
            "Epoch 6/100\n",
            "1345/1345 [==============================] - 4s 3ms/step - loss: 0.0057\n",
            "Epoch 7/100\n",
            "1345/1345 [==============================] - 4s 3ms/step - loss: 0.0053\n",
            "Epoch 8/100\n",
            "1345/1345 [==============================] - 4s 3ms/step - loss: 0.0047\n",
            "Epoch 9/100\n",
            "1345/1345 [==============================] - 4s 3ms/step - loss: 0.0054\n",
            "Epoch 10/100\n",
            "1345/1345 [==============================] - 4s 3ms/step - loss: 0.0047\n",
            "Epoch 11/100\n",
            "1345/1345 [==============================] - 4s 3ms/step - loss: 0.0047\n",
            "Epoch 12/100\n",
            "1345/1345 [==============================] - 4s 3ms/step - loss: 0.0046\n",
            "Epoch 13/100\n",
            "1345/1345 [==============================] - 4s 3ms/step - loss: 0.0046\n",
            "Epoch 14/100\n",
            "1345/1345 [==============================] - 4s 3ms/step - loss: 0.0040\n",
            "Epoch 15/100\n",
            "1345/1345 [==============================] - 4s 3ms/step - loss: 0.0040\n",
            "Epoch 16/100\n",
            "1345/1345 [==============================] - 4s 3ms/step - loss: 0.0048\n",
            "Epoch 17/100\n",
            "1345/1345 [==============================] - 4s 3ms/step - loss: 0.0042\n",
            "Epoch 18/100\n",
            "1345/1345 [==============================] - 4s 3ms/step - loss: 0.0045\n",
            "Epoch 19/100\n",
            "1345/1345 [==============================] - 4s 3ms/step - loss: 0.0041\n",
            "Epoch 20/100\n",
            "1345/1345 [==============================] - 4s 3ms/step - loss: 0.0031\n",
            "Epoch 21/100\n",
            "1345/1345 [==============================] - 4s 3ms/step - loss: 0.0036\n",
            "Epoch 22/100\n",
            "1345/1345 [==============================] - 4s 3ms/step - loss: 0.0033\n",
            "Epoch 23/100\n",
            "1345/1345 [==============================] - 4s 3ms/step - loss: 0.0031\n",
            "Epoch 24/100\n",
            "1345/1345 [==============================] - 4s 3ms/step - loss: 0.0030\n",
            "Epoch 25/100\n",
            "1345/1345 [==============================] - 4s 3ms/step - loss: 0.0039\n",
            "Epoch 26/100\n",
            "1345/1345 [==============================] - 4s 3ms/step - loss: 0.0030\n",
            "Epoch 27/100\n",
            "1345/1345 [==============================] - 4s 3ms/step - loss: 0.0035\n",
            "Epoch 28/100\n",
            "1345/1345 [==============================] - 4s 3ms/step - loss: 0.0040\n",
            "Epoch 29/100\n",
            "1345/1345 [==============================] - 4s 3ms/step - loss: 0.0044\n",
            "Epoch 30/100\n",
            "1345/1345 [==============================] - 4s 3ms/step - loss: 0.0033\n",
            "Epoch 31/100\n",
            "1345/1345 [==============================] - 4s 3ms/step - loss: 0.0031\n",
            "Epoch 32/100\n",
            "1345/1345 [==============================] - 4s 3ms/step - loss: 0.0033\n",
            "Epoch 33/100\n",
            "1345/1345 [==============================] - 4s 3ms/step - loss: 0.0029\n",
            "Epoch 34/100\n",
            "1345/1345 [==============================] - 4s 3ms/step - loss: 0.0028\n",
            "Epoch 35/100\n",
            "1345/1345 [==============================] - 4s 3ms/step - loss: 0.0032\n",
            "Epoch 36/100\n",
            "1345/1345 [==============================] - 4s 3ms/step - loss: 0.0028\n",
            "Epoch 37/100\n",
            "1345/1345 [==============================] - 4s 3ms/step - loss: 0.0030\n",
            "Epoch 38/100\n",
            "1345/1345 [==============================] - 4s 3ms/step - loss: 0.0028\n",
            "Epoch 39/100\n",
            "1345/1345 [==============================] - 4s 3ms/step - loss: 0.0034\n",
            "Epoch 40/100\n",
            "1345/1345 [==============================] - 4s 3ms/step - loss: 0.0026\n",
            "Epoch 41/100\n",
            "1345/1345 [==============================] - 4s 3ms/step - loss: 0.0029\n",
            "Epoch 42/100\n",
            "1345/1345 [==============================] - 4s 3ms/step - loss: 0.0032\n",
            "Epoch 43/100\n",
            "1345/1345 [==============================] - 4s 3ms/step - loss: 0.0031\n",
            "Epoch 44/100\n",
            "1345/1345 [==============================] - 4s 3ms/step - loss: 0.0025\n",
            "Epoch 45/100\n",
            "1345/1345 [==============================] - 4s 3ms/step - loss: 0.0026\n",
            "Epoch 46/100\n",
            "1345/1345 [==============================] - 4s 3ms/step - loss: 0.0027\n",
            "Epoch 47/100\n",
            "1345/1345 [==============================] - 4s 3ms/step - loss: 0.0024\n",
            "Epoch 48/100\n",
            "1345/1345 [==============================] - 4s 3ms/step - loss: 0.0023\n",
            "Epoch 49/100\n",
            "1345/1345 [==============================] - 4s 3ms/step - loss: 0.0022\n",
            "Epoch 50/100\n",
            "1345/1345 [==============================] - 4s 3ms/step - loss: 0.0025\n",
            "Epoch 51/100\n",
            "1345/1345 [==============================] - 4s 3ms/step - loss: 0.0026\n",
            "Epoch 52/100\n",
            "1345/1345 [==============================] - 4s 3ms/step - loss: 0.0027\n",
            "Epoch 53/100\n",
            "1345/1345 [==============================] - 4s 3ms/step - loss: 0.0023\n",
            "Epoch 54/100\n",
            "1345/1345 [==============================] - 4s 3ms/step - loss: 0.0023\n",
            "Epoch 55/100\n",
            "1345/1345 [==============================] - 4s 3ms/step - loss: 0.0024\n",
            "Epoch 56/100\n",
            "1345/1345 [==============================] - 4s 3ms/step - loss: 0.0025\n",
            "Epoch 57/100\n",
            "1345/1345 [==============================] - 4s 3ms/step - loss: 0.0024\n",
            "Epoch 58/100\n",
            "1345/1345 [==============================] - 4s 3ms/step - loss: 0.0025\n",
            "Epoch 59/100\n",
            "1345/1345 [==============================] - 4s 3ms/step - loss: 0.0027\n",
            "Epoch 60/100\n",
            "1345/1345 [==============================] - 4s 3ms/step - loss: 0.0025\n",
            "Epoch 61/100\n",
            "1345/1345 [==============================] - 4s 3ms/step - loss: 0.0024\n",
            "Epoch 62/100\n",
            "1345/1345 [==============================] - 4s 3ms/step - loss: 0.0021\n",
            "Epoch 63/100\n",
            "1345/1345 [==============================] - 4s 3ms/step - loss: 0.0024\n",
            "Epoch 64/100\n",
            "1345/1345 [==============================] - 4s 3ms/step - loss: 0.0019\n",
            "Epoch 65/100\n",
            "1345/1345 [==============================] - 4s 3ms/step - loss: 0.0025\n",
            "Epoch 66/100\n",
            "1345/1345 [==============================] - 4s 3ms/step - loss: 0.0020\n",
            "Epoch 67/100\n",
            "1345/1345 [==============================] - 4s 3ms/step - loss: 0.0019\n",
            "Epoch 68/100\n",
            "1345/1345 [==============================] - 4s 3ms/step - loss: 0.0019\n",
            "Epoch 69/100\n",
            "1345/1345 [==============================] - 4s 3ms/step - loss: 0.0021\n",
            "Epoch 70/100\n",
            "1345/1345 [==============================] - 4s 3ms/step - loss: 0.0024\n",
            "Epoch 71/100\n",
            "1345/1345 [==============================] - 4s 3ms/step - loss: 0.0022\n",
            "Epoch 72/100\n",
            "1345/1345 [==============================] - 4s 3ms/step - loss: 0.0021\n",
            "Epoch 73/100\n",
            "1345/1345 [==============================] - 4s 3ms/step - loss: 0.0023\n",
            "Epoch 74/100\n",
            "1345/1345 [==============================] - 4s 3ms/step - loss: 0.0019\n",
            "Epoch 75/100\n",
            "1345/1345 [==============================] - 4s 3ms/step - loss: 0.0021\n",
            "Epoch 76/100\n",
            "1345/1345 [==============================] - 4s 3ms/step - loss: 0.0020\n",
            "Epoch 77/100\n",
            "1345/1345 [==============================] - 4s 3ms/step - loss: 0.0020\n",
            "Epoch 78/100\n",
            "1345/1345 [==============================] - 4s 3ms/step - loss: 0.0018\n",
            "Epoch 79/100\n",
            "1345/1345 [==============================] - 4s 3ms/step - loss: 0.0021\n",
            "Epoch 80/100\n",
            "1345/1345 [==============================] - 4s 3ms/step - loss: 0.0020\n",
            "Epoch 81/100\n",
            "1345/1345 [==============================] - 4s 3ms/step - loss: 0.0023\n",
            "Epoch 82/100\n",
            "1345/1345 [==============================] - 4s 3ms/step - loss: 0.0024\n",
            "Epoch 83/100\n",
            "1345/1345 [==============================] - 4s 3ms/step - loss: 0.0020\n",
            "Epoch 84/100\n",
            "1345/1345 [==============================] - 4s 3ms/step - loss: 0.0025\n",
            "Epoch 85/100\n",
            "1345/1345 [==============================] - 4s 3ms/step - loss: 0.0022\n",
            "Epoch 86/100\n",
            "1345/1345 [==============================] - 4s 3ms/step - loss: 0.0019\n",
            "Epoch 87/100\n",
            "1345/1345 [==============================] - 4s 3ms/step - loss: 0.0020\n",
            "Epoch 88/100\n",
            "1345/1345 [==============================] - 4s 3ms/step - loss: 0.0019\n",
            "Epoch 89/100\n",
            "1345/1345 [==============================] - 4s 3ms/step - loss: 0.0019\n",
            "Epoch 90/100\n",
            "1345/1345 [==============================] - 4s 3ms/step - loss: 0.0022\n",
            "Epoch 91/100\n",
            "1345/1345 [==============================] - 4s 3ms/step - loss: 0.0020\n",
            "Epoch 92/100\n",
            "1345/1345 [==============================] - 4s 3ms/step - loss: 0.0021\n",
            "Epoch 93/100\n",
            "1345/1345 [==============================] - 4s 3ms/step - loss: 0.0017\n",
            "Epoch 94/100\n",
            "1345/1345 [==============================] - 4s 3ms/step - loss: 0.0019\n",
            "Epoch 95/100\n",
            "1345/1345 [==============================] - 4s 3ms/step - loss: 0.0019\n",
            "Epoch 96/100\n",
            "1345/1345 [==============================] - 4s 3ms/step - loss: 0.0023\n",
            "Epoch 97/100\n",
            "1345/1345 [==============================] - 4s 3ms/step - loss: 0.0023\n",
            "Epoch 98/100\n",
            "1345/1345 [==============================] - 4s 3ms/step - loss: 0.0019\n",
            "Epoch 99/100\n",
            "1345/1345 [==============================] - 4s 3ms/step - loss: 0.0019\n",
            "Epoch 100/100\n",
            "1345/1345 [==============================] - 4s 3ms/step - loss: 0.0017\n"
          ],
          "name": "stdout"
        },
        {
          "output_type": "execute_result",
          "data": {
            "text/plain": [
              "<keras.callbacks.History at 0x7ff5730d3390>"
            ]
          },
          "metadata": {
            "tags": []
          },
          "execution_count": 32
        }
      ]
    },
    {
      "metadata": {
        "colab_type": "code",
        "id": "noE_4CaQqFeO",
        "colab": {}
      },
      "cell_type": "code",
      "source": [
        "import pandas as pd\n",
        "dataset_total = pd.concat((train_data['open'], test_data['open']), axis = 0)"
      ],
      "execution_count": 0,
      "outputs": []
    },
    {
      "metadata": {
        "colab_type": "code",
        "id": "050Uc0DjunrT",
        "colab": {}
      },
      "cell_type": "code",
      "source": [
        "inputs = dataset_total[len(dataset_total) - len(test_data) - 60:].values\n",
        "inputs = inputs.reshape(-1,1)"
      ],
      "execution_count": 0,
      "outputs": []
    },
    {
      "metadata": {
        "colab_type": "code",
        "id": "aNJu-wvRXuG_",
        "outputId": "b17ca518-5023-4c41-b1bd-bf1e44e3ab49",
        "colab": {
          "base_uri": "https://localhost:8080/",
          "height": 2176
        }
      },
      "cell_type": "code",
      "source": [
        "inputs"
      ],
      "execution_count": 35,
      "outputs": [
        {
          "output_type": "execute_result",
          "data": {
            "text/plain": [
              "array([[1053.89],\n",
              "       [1064.62],\n",
              "       [1064.1 ],\n",
              "       [1095.  ],\n",
              "       [1100.41],\n",
              "       [1105.57],\n",
              "       [1096.9 ],\n",
              "       [1085.09],\n",
              "       [1081.46],\n",
              "       [1066.  ],\n",
              "       [1079.  ],\n",
              "       [1089.8 ],\n",
              "       [1070.  ],\n",
              "       [1086.9 ],\n",
              "       [1086.55],\n",
              "       [1076.  ],\n",
              "       [1073.48],\n",
              "       [1082.  ],\n",
              "       [1112.87],\n",
              "       [1138.5 ],\n",
              "       [1154.66],\n",
              "       [1152.77],\n",
              "       [1144.58],\n",
              "       [1131.21],\n",
              "       [1132.94],\n",
              "       [1141.02],\n",
              "       [1152.28],\n",
              "       [1152.21],\n",
              "       [1159.92],\n",
              "       [1152.69],\n",
              "       [1170.11],\n",
              "       [1183.3 ],\n",
              "       [1185.51],\n",
              "       [1171.49],\n",
              "       [1155.  ],\n",
              "       [1144.14],\n",
              "       [1136.  ],\n",
              "       [1112.39],\n",
              "       [1132.31],\n",
              "       [1115.35],\n",
              "       [1149.42],\n",
              "       [1124.6 ],\n",
              "       [1141.77],\n",
              "       [1160.  ],\n",
              "       [1169.99],\n",
              "       [1155.62],\n",
              "       [1174.86],\n",
              "       [1202.8 ],\n",
              "       [1203.81],\n",
              "       [1182.74],\n",
              "       [1208.53],\n",
              "       [1206.65],\n",
              "       [1199.24],\n",
              "       [1195.66],\n",
              "       [1271.  ],\n",
              "       [1252.62],\n",
              "       [1267.18],\n",
              "       [1289.12],\n",
              "       [1245.05],\n",
              "       [1231.71],\n",
              "       [1239.11],\n",
              "       [1218.5 ],\n",
              "       [1245.18],\n",
              "       [1241.61],\n",
              "       [1252.01],\n",
              "       [1256.72],\n",
              "       [1262.73],\n",
              "       [1259.18],\n",
              "       [1251.2 ],\n",
              "       [1252.5 ],\n",
              "       [1244.28],\n",
              "       [1241.99],\n",
              "       [1222.04],\n",
              "       [1220.66],\n",
              "       [1223.02],\n",
              "       [1214.22],\n",
              "       [1219.88],\n",
              "       [1226.  ],\n",
              "       [1244.14],\n",
              "       [1255.9 ],\n",
              "       [1255.  ],\n",
              "       [1263.4 ],\n",
              "       [1252.21],\n",
              "       [1222.52],\n",
              "       [1209.22],\n",
              "       [1198.57],\n",
              "       [1172.  ],\n",
              "       [1184.2 ],\n",
              "       [1171.1 ],\n",
              "       [1182.  ],\n",
              "       [1179.7 ],\n",
              "       [1188.  ],\n",
              "       [1177.77],\n",
              "       [1162.66],\n",
              "       [1168.96],\n",
              "       [1180.67],\n",
              "       [1194.92],\n",
              "       [1159.41],\n",
              "       [1184.25],\n",
              "       [1193.69],\n",
              "       [1200.  ],\n",
              "       [1204.09],\n",
              "       [1213.  ],\n",
              "       [1206.67],\n",
              "       [1212.  ],\n",
              "       [1205.03],\n",
              "       [1176.  ],\n",
              "       [1160.  ],\n",
              "       [1151.31],\n",
              "       [1136.4 ],\n",
              "       [1079.04],\n",
              "       [1119.64],\n",
              "       [1118.  ],\n",
              "       [1113.48],\n",
              "       [1140.  ],\n",
              "       [1130.  ],\n",
              "       [1103.71],\n",
              "       [1112.51],\n",
              "       [1091.29],\n",
              "       [1115.  ],\n",
              "       [1080.3 ],\n",
              "       [1048.33],\n",
              "       [1096.54],\n",
              "       [1020.01],\n",
              "       [1068.2 ],\n",
              "       [1091.4 ],\n",
              "       [1089.  ]])"
            ]
          },
          "metadata": {
            "tags": []
          },
          "execution_count": 35
        }
      ]
    },
    {
      "metadata": {
        "colab_type": "code",
        "id": "Co3afBUtu05u",
        "outputId": "36c61bdc-6138-405f-9d12-f79728a8e824",
        "colab": {
          "base_uri": "https://localhost:8080/",
          "height": 34
        }
      },
      "cell_type": "code",
      "source": [
        "len(inputs)"
      ],
      "execution_count": 36,
      "outputs": [
        {
          "output_type": "execute_result",
          "data": {
            "text/plain": [
              "127"
            ]
          },
          "metadata": {
            "tags": []
          },
          "execution_count": 36
        }
      ]
    },
    {
      "metadata": {
        "colab_type": "code",
        "id": "BKQioroUu749",
        "colab": {}
      },
      "cell_type": "code",
      "source": [
        "inputs = sc.transform(inputs)\n",
        "X_test = []\n",
        "for i in range(60, 127):\n",
        "    X_test.append(inputs[i-60:i, 0])\n",
        "X_test = np.array(X_test)\n",
        "X_test = np.reshape(X_test, (X_test.shape[0], X_test.shape[1], 1))\n",
        "predicted_stock_price = regressor.predict(X_test)\n",
        "predicted_stock_price = sc.inverse_transform(predicted_stock_price)"
      ],
      "execution_count": 0,
      "outputs": []
    },
    {
      "metadata": {
        "colab_type": "code",
        "id": "u9S-fy_pdDD_",
        "outputId": "ebfa9d3e-34c9-449f-82b8-92162e1ecd31",
        "colab": {
          "base_uri": "https://localhost:8080/",
          "height": 34
        }
      },
      "cell_type": "code",
      "source": [
        "XTest=np.reshape(X_test[0],(1,60,1))\n",
        "X_test.shape"
      ],
      "execution_count": 38,
      "outputs": [
        {
          "output_type": "execute_result",
          "data": {
            "text/plain": [
              "(67, 60, 1)"
            ]
          },
          "metadata": {
            "tags": []
          },
          "execution_count": 38
        }
      ]
    },
    {
      "metadata": {
        "colab_type": "code",
        "id": "-L56-1Y3bioV",
        "colab": {}
      },
      "cell_type": "code",
      "source": [
        "\n",
        "predicted=[]\n",
        "for i in range(30):\n",
        "\n",
        "  p=sc.inverse_transform(regressor.predict(XTest))\n",
        "  predicted.append(sc.inverse_transform(regressor.predict(XTest)))\n",
        "  XTest=np.reshape(XTest,(60))\n",
        "  XTest=np.delete(XTest,0)\n",
        "  XTest=np.append(XTest,sc.transform(p))\n",
        "  XTest=np.reshape(XTest,(1,60,1))"
      ],
      "execution_count": 0,
      "outputs": []
    },
    {
      "metadata": {
        "colab_type": "code",
        "id": "0f05T4jxcK8l",
        "colab": {}
      },
      "cell_type": "code",
      "source": [
        "predicted_stock_price_30days=np.reshape(predicted,(30,1))"
      ],
      "execution_count": 0,
      "outputs": []
    },
    {
      "metadata": {
        "colab_type": "code",
        "id": "71adl5sizQFr",
        "outputId": "8e669f0c-0bdb-4cd6-d631-6066204b479a",
        "colab": {
          "base_uri": "https://localhost:8080/",
          "height": 1156
        }
      },
      "cell_type": "code",
      "source": [
        "predicted_stock_price"
      ],
      "execution_count": 41,
      "outputs": [
        {
          "output_type": "execute_result",
          "data": {
            "text/plain": [
              "array([[1181.2277],\n",
              "       [1176.4915],\n",
              "       [1166.5972],\n",
              "       [1165.4935],\n",
              "       [1163.4918],\n",
              "       [1163.1038],\n",
              "       [1170.4337],\n",
              "       [1174.7887],\n",
              "       [1179.7369],\n",
              "       [1181.4829],\n",
              "       [1181.8494],\n",
              "       [1179.256 ],\n",
              "       [1176.3574],\n",
              "       [1168.4636],\n",
              "       [1160.6   ],\n",
              "       [1155.006 ],\n",
              "       [1149.7584],\n",
              "       [1147.9148],\n",
              "       [1150.4117],\n",
              "       [1158.3394],\n",
              "       [1168.117 ],\n",
              "       [1172.8835],\n",
              "       [1178.6178],\n",
              "       [1180.3083],\n",
              "       [1171.5396],\n",
              "       [1161.7208],\n",
              "       [1150.4423],\n",
              "       [1132.8406],\n",
              "       [1120.461 ],\n",
              "       [1111.3003],\n",
              "       [1112.2874],\n",
              "       [1117.5808],\n",
              "       [1124.4222],\n",
              "       [1127.3003],\n",
              "       [1125.4252],\n",
              "       [1123.2329],\n",
              "       [1124.1654],\n",
              "       [1127.61  ],\n",
              "       [1120.3319],\n",
              "       [1120.8315],\n",
              "       [1124.8588],\n",
              "       [1128.5844],\n",
              "       [1133.9071],\n",
              "       [1141.1929],\n",
              "       [1145.1606],\n",
              "       [1149.4387],\n",
              "       [1148.7692],\n",
              "       [1142.1311],\n",
              "       [1131.296 ],\n",
              "       [1118.0238],\n",
              "       [1102.7406],\n",
              "       [1071.2023],\n",
              "       [1060.4678],\n",
              "       [1060.6437],\n",
              "       [1065.8043],\n",
              "       [1079.6157],\n",
              "       [1088.0366],\n",
              "       [1084.5917],\n",
              "       [1084.8522],\n",
              "       [1074.0365],\n",
              "       [1071.9475],\n",
              "       [1061.4181],\n",
              "       [1034.6841],\n",
              "       [1031.5543],\n",
              "       [1007.1733],\n",
              "       [1007.6195],\n",
              "       [1022.4487]], dtype=float32)"
            ]
          },
          "metadata": {
            "tags": []
          },
          "execution_count": 41
        }
      ]
    },
    {
      "metadata": {
        "colab_type": "code",
        "id": "3Waiprj1vJWH",
        "outputId": "0e4d206e-9345-4e5c-cef0-04201a42f7ab",
        "colab": {
          "base_uri": "https://localhost:8080/",
          "height": 418
        }
      },
      "cell_type": "code",
      "source": [
        "import matplotlib.pyplot as plt\n",
        "#plt.figure(figsize=(10,5))\n",
        "plt.plot(real_stock_price, color = 'red', label = 'Real Google Stock Price')\n",
        "plt.plot(predicted_stock_price, color = 'blue', label = 'Predicted Google Stock Price - One step time series forecast')\n",
        "plt.plot(predicted_stock_price_30days, color = 'orange', label = 'Predicted Google Stock Price - Multistep time series forecast')\n",
        "plt.title('Google Stock Price Prediction')\n",
        "plt.xlabel('Time')\n",
        "plt.ylabel('Google Stock Price')\n",
        "plt.ylim(700,1400)\n",
        "plt.xticks(np.arange(67),test_data['timestamp'], rotation='vertical')\n",
        "plt.legend()\n",
        "plt.show()"
      ],
      "execution_count": 42,
      "outputs": [
        {
          "output_type": "display_data",
          "data": {
            "image/png": "[encoded data removed]",
            "text/plain": [
              "<matplotlib.figure.Figure at 0x7ff56b7f7c18>"
            ]
          },
          "metadata": {
            "tags": []
          }
        }
      ]
    },
    {
      "metadata": {
        "colab_type": "code",
        "id": "ZBrsK2ky5SrI",
        "outputId": "85571196-0a78-491e-eb42-5fb1ef701539",
        "colab": {
          "base_uri": "https://localhost:8080/",
          "height": 34
        }
      },
      "cell_type": "code",
      "source": [
        "real_stock_price.shape"
      ],
      "execution_count": 43,
      "outputs": [
        {
          "output_type": "execute_result",
          "data": {
            "text/plain": [
              "(67, 1)"
            ]
          },
          "metadata": {
            "tags": []
          },
          "execution_count": 43
        }
      ]
    },
    {
      "metadata": {
        "colab_type": "code",
        "id": "_03-NUDNiaXS",
        "outputId": "c0b443f2-b13b-4d75-ccd2-5f4f2284bd6b",
        "colab": {
          "base_uri": "https://localhost:8080/",
          "height": 34
        }
      },
      "cell_type": "code",
      "source": [
        "from sklearn import metrics\n",
        "np.sqrt(metrics.mean_squared_error(real_stock_price,predicted_stock_price[0:67]))"
      ],
      "execution_count": 44,
      "outputs": [
        {
          "output_type": "execute_result",
          "data": {
            "text/plain": [
              "61.065720751840466"
            ]
          },
          "metadata": {
            "tags": []
          },
          "execution_count": 44
        }
      ]
    },
    {
      "metadata": {
        "colab_type": "code",
        "id": "dmFsSQkSvMo5",
        "colab": {}
      },
      "cell_type": "code",
      "source": [
        "def cal_target(df):\n",
        "    list_y =[]\n",
        "    temp = df\n",
        "    for i in range(len(temp)-1):\n",
        "        if temp[i+1] > temp[i]:\n",
        "            y = 1\n",
        "        else:\n",
        "            y = -1\n",
        "            \n",
        "        list_y.append(y)\n",
        "    ydf = pd.DataFrame(list_y)\n",
        "    return ydf"
      ],
      "execution_count": 0,
      "outputs": []
    },
    {
      "metadata": {
        "colab_type": "code",
        "id": "IoNs9gq-vraT",
        "colab": {}
      },
      "cell_type": "code",
      "source": [
        "real_stock_price_trend = cal_target(real_stock_price)\n",
        "predicted_stock_price_trend =cal_target(predicted_stock_price[0:67])"
      ],
      "execution_count": 0,
      "outputs": []
    },
    {
      "metadata": {
        "colab_type": "code",
        "id": "9kSX7y2bvtsI",
        "outputId": "4ad4c26f-e027-4537-f0a5-fadd96141d1c",
        "colab": {
          "base_uri": "https://localhost:8080/",
          "height": 1969
        }
      },
      "cell_type": "code",
      "source": [
        "real_df = pd.DataFrame(real_stock_price_trend)\n",
        "pred_df = pd.DataFrame(predicted_stock_price_trend)\n",
        "acc_df = pd.concat((real_df[0],pred_df[0]), axis=1)\n",
        "acc_df.head(100)"
      ],
      "execution_count": 47,
      "outputs": [
        {
          "output_type": "execute_result",
          "data": {
            "text/html": [
              "<div>\n",
              "<style scoped>\n",
              "    .dataframe tbody tr th:only-of-type {\n",
              "        vertical-align: middle;\n",
              "    }\n",
              "\n",
              "    .dataframe tbody tr th {\n",
              "        vertical-align: top;\n",
              "    }\n",
              "\n",
              "    .dataframe thead th {\n",
              "        text-align: right;\n",
              "    }\n",
              "</style>\n",
              "<table border=\"1\" class=\"dataframe\">\n",
              "  <thead>\n",
              "    <tr style=\"text-align: right;\">\n",
              "      <th></th>\n",
              "      <th>0</th>\n",
              "      <th>0</th>\n",
              "    </tr>\n",
              "  </thead>\n",
              "  <tbody>\n",
              "    <tr>\n",
              "      <th>0</th>\n",
              "      <td>-1</td>\n",
              "      <td>-1</td>\n",
              "    </tr>\n",
              "    <tr>\n",
              "      <th>1</th>\n",
              "      <td>1</td>\n",
              "      <td>-1</td>\n",
              "    </tr>\n",
              "    <tr>\n",
              "      <th>2</th>\n",
              "      <td>-1</td>\n",
              "      <td>-1</td>\n",
              "    </tr>\n",
              "    <tr>\n",
              "      <th>3</th>\n",
              "      <td>1</td>\n",
              "      <td>-1</td>\n",
              "    </tr>\n",
              "    <tr>\n",
              "      <th>4</th>\n",
              "      <td>1</td>\n",
              "      <td>-1</td>\n",
              "    </tr>\n",
              "    <tr>\n",
              "      <th>5</th>\n",
              "      <td>1</td>\n",
              "      <td>1</td>\n",
              "    </tr>\n",
              "    <tr>\n",
              "      <th>6</th>\n",
              "      <td>-1</td>\n",
              "      <td>1</td>\n",
              "    </tr>\n",
              "    <tr>\n",
              "      <th>7</th>\n",
              "      <td>-1</td>\n",
              "      <td>1</td>\n",
              "    </tr>\n",
              "    <tr>\n",
              "      <th>8</th>\n",
              "      <td>1</td>\n",
              "      <td>1</td>\n",
              "    </tr>\n",
              "    <tr>\n",
              "      <th>9</th>\n",
              "      <td>-1</td>\n",
              "      <td>1</td>\n",
              "    </tr>\n",
              "    <tr>\n",
              "      <th>10</th>\n",
              "      <td>-1</td>\n",
              "      <td>-1</td>\n",
              "    </tr>\n",
              "    <tr>\n",
              "      <th>11</th>\n",
              "      <td>-1</td>\n",
              "      <td>-1</td>\n",
              "    </tr>\n",
              "    <tr>\n",
              "      <th>12</th>\n",
              "      <td>-1</td>\n",
              "      <td>-1</td>\n",
              "    </tr>\n",
              "    <tr>\n",
              "      <th>13</th>\n",
              "      <td>1</td>\n",
              "      <td>-1</td>\n",
              "    </tr>\n",
              "    <tr>\n",
              "      <th>14</th>\n",
              "      <td>-1</td>\n",
              "      <td>-1</td>\n",
              "    </tr>\n",
              "    <tr>\n",
              "      <th>15</th>\n",
              "      <td>1</td>\n",
              "      <td>-1</td>\n",
              "    </tr>\n",
              "    <tr>\n",
              "      <th>16</th>\n",
              "      <td>1</td>\n",
              "      <td>-1</td>\n",
              "    </tr>\n",
              "    <tr>\n",
              "      <th>17</th>\n",
              "      <td>1</td>\n",
              "      <td>1</td>\n",
              "    </tr>\n",
              "    <tr>\n",
              "      <th>18</th>\n",
              "      <td>1</td>\n",
              "      <td>1</td>\n",
              "    </tr>\n",
              "    <tr>\n",
              "      <th>19</th>\n",
              "      <td>-1</td>\n",
              "      <td>1</td>\n",
              "    </tr>\n",
              "    <tr>\n",
              "      <th>20</th>\n",
              "      <td>1</td>\n",
              "      <td>1</td>\n",
              "    </tr>\n",
              "    <tr>\n",
              "      <th>21</th>\n",
              "      <td>-1</td>\n",
              "      <td>1</td>\n",
              "    </tr>\n",
              "    <tr>\n",
              "      <th>22</th>\n",
              "      <td>-1</td>\n",
              "      <td>1</td>\n",
              "    </tr>\n",
              "    <tr>\n",
              "      <th>23</th>\n",
              "      <td>-1</td>\n",
              "      <td>-1</td>\n",
              "    </tr>\n",
              "    <tr>\n",
              "      <th>24</th>\n",
              "      <td>-1</td>\n",
              "      <td>-1</td>\n",
              "    </tr>\n",
              "    <tr>\n",
              "      <th>25</th>\n",
              "      <td>-1</td>\n",
              "      <td>-1</td>\n",
              "    </tr>\n",
              "    <tr>\n",
              "      <th>26</th>\n",
              "      <td>1</td>\n",
              "      <td>-1</td>\n",
              "    </tr>\n",
              "    <tr>\n",
              "      <th>27</th>\n",
              "      <td>-1</td>\n",
              "      <td>-1</td>\n",
              "    </tr>\n",
              "    <tr>\n",
              "      <th>28</th>\n",
              "      <td>1</td>\n",
              "      <td>-1</td>\n",
              "    </tr>\n",
              "    <tr>\n",
              "      <th>29</th>\n",
              "      <td>-1</td>\n",
              "      <td>1</td>\n",
              "    </tr>\n",
              "    <tr>\n",
              "      <th>...</th>\n",
              "      <td>...</td>\n",
              "      <td>...</td>\n",
              "    </tr>\n",
              "    <tr>\n",
              "      <th>36</th>\n",
              "      <td>-1</td>\n",
              "      <td>1</td>\n",
              "    </tr>\n",
              "    <tr>\n",
              "      <th>37</th>\n",
              "      <td>1</td>\n",
              "      <td>-1</td>\n",
              "    </tr>\n",
              "    <tr>\n",
              "      <th>38</th>\n",
              "      <td>1</td>\n",
              "      <td>1</td>\n",
              "    </tr>\n",
              "    <tr>\n",
              "      <th>39</th>\n",
              "      <td>1</td>\n",
              "      <td>1</td>\n",
              "    </tr>\n",
              "    <tr>\n",
              "      <th>40</th>\n",
              "      <td>1</td>\n",
              "      <td>1</td>\n",
              "    </tr>\n",
              "    <tr>\n",
              "      <th>41</th>\n",
              "      <td>1</td>\n",
              "      <td>1</td>\n",
              "    </tr>\n",
              "    <tr>\n",
              "      <th>42</th>\n",
              "      <td>-1</td>\n",
              "      <td>1</td>\n",
              "    </tr>\n",
              "    <tr>\n",
              "      <th>43</th>\n",
              "      <td>1</td>\n",
              "      <td>1</td>\n",
              "    </tr>\n",
              "    <tr>\n",
              "      <th>44</th>\n",
              "      <td>-1</td>\n",
              "      <td>1</td>\n",
              "    </tr>\n",
              "    <tr>\n",
              "      <th>45</th>\n",
              "      <td>-1</td>\n",
              "      <td>-1</td>\n",
              "    </tr>\n",
              "    <tr>\n",
              "      <th>46</th>\n",
              "      <td>-1</td>\n",
              "      <td>-1</td>\n",
              "    </tr>\n",
              "    <tr>\n",
              "      <th>47</th>\n",
              "      <td>-1</td>\n",
              "      <td>-1</td>\n",
              "    </tr>\n",
              "    <tr>\n",
              "      <th>48</th>\n",
              "      <td>-1</td>\n",
              "      <td>-1</td>\n",
              "    </tr>\n",
              "    <tr>\n",
              "      <th>49</th>\n",
              "      <td>-1</td>\n",
              "      <td>-1</td>\n",
              "    </tr>\n",
              "    <tr>\n",
              "      <th>50</th>\n",
              "      <td>1</td>\n",
              "      <td>-1</td>\n",
              "    </tr>\n",
              "    <tr>\n",
              "      <th>51</th>\n",
              "      <td>-1</td>\n",
              "      <td>-1</td>\n",
              "    </tr>\n",
              "    <tr>\n",
              "      <th>52</th>\n",
              "      <td>-1</td>\n",
              "      <td>1</td>\n",
              "    </tr>\n",
              "    <tr>\n",
              "      <th>53</th>\n",
              "      <td>1</td>\n",
              "      <td>1</td>\n",
              "    </tr>\n",
              "    <tr>\n",
              "      <th>54</th>\n",
              "      <td>-1</td>\n",
              "      <td>1</td>\n",
              "    </tr>\n",
              "    <tr>\n",
              "      <th>55</th>\n",
              "      <td>-1</td>\n",
              "      <td>1</td>\n",
              "    </tr>\n",
              "    <tr>\n",
              "      <th>56</th>\n",
              "      <td>1</td>\n",
              "      <td>-1</td>\n",
              "    </tr>\n",
              "    <tr>\n",
              "      <th>57</th>\n",
              "      <td>-1</td>\n",
              "      <td>1</td>\n",
              "    </tr>\n",
              "    <tr>\n",
              "      <th>58</th>\n",
              "      <td>1</td>\n",
              "      <td>-1</td>\n",
              "    </tr>\n",
              "    <tr>\n",
              "      <th>59</th>\n",
              "      <td>-1</td>\n",
              "      <td>-1</td>\n",
              "    </tr>\n",
              "    <tr>\n",
              "      <th>60</th>\n",
              "      <td>-1</td>\n",
              "      <td>-1</td>\n",
              "    </tr>\n",
              "    <tr>\n",
              "      <th>61</th>\n",
              "      <td>1</td>\n",
              "      <td>-1</td>\n",
              "    </tr>\n",
              "    <tr>\n",
              "      <th>62</th>\n",
              "      <td>-1</td>\n",
              "      <td>-1</td>\n",
              "    </tr>\n",
              "    <tr>\n",
              "      <th>63</th>\n",
              "      <td>1</td>\n",
              "      <td>-1</td>\n",
              "    </tr>\n",
              "    <tr>\n",
              "      <th>64</th>\n",
              "      <td>1</td>\n",
              "      <td>1</td>\n",
              "    </tr>\n",
              "    <tr>\n",
              "      <th>65</th>\n",
              "      <td>-1</td>\n",
              "      <td>1</td>\n",
              "    </tr>\n",
              "  </tbody>\n",
              "</table>\n",
              "<p>66 rows × 2 columns</p>\n",
              "</div>"
            ],
            "text/plain": [
              "    0  0\n",
              "0  -1 -1\n",
              "1   1 -1\n",
              "2  -1 -1\n",
              "3   1 -1\n",
              "4   1 -1\n",
              "5   1  1\n",
              "6  -1  1\n",
              "7  -1  1\n",
              "8   1  1\n",
              "9  -1  1\n",
              "10 -1 -1\n",
              "11 -1 -1\n",
              "12 -1 -1\n",
              "13  1 -1\n",
              "14 -1 -1\n",
              "15  1 -1\n",
              "16  1 -1\n",
              "17  1  1\n",
              "18  1  1\n",
              "19 -1  1\n",
              "20  1  1\n",
              "21 -1  1\n",
              "22 -1  1\n",
              "23 -1 -1\n",
              "24 -1 -1\n",
              "25 -1 -1\n",
              "26  1 -1\n",
              "27 -1 -1\n",
              "28  1 -1\n",
              "29 -1  1\n",
              ".. .. ..\n",
              "36 -1  1\n",
              "37  1 -1\n",
              "38  1  1\n",
              "39  1  1\n",
              "40  1  1\n",
              "41  1  1\n",
              "42 -1  1\n",
              "43  1  1\n",
              "44 -1  1\n",
              "45 -1 -1\n",
              "46 -1 -1\n",
              "47 -1 -1\n",
              "48 -1 -1\n",
              "49 -1 -1\n",
              "50  1 -1\n",
              "51 -1 -1\n",
              "52 -1  1\n",
              "53  1  1\n",
              "54 -1  1\n",
              "55 -1  1\n",
              "56  1 -1\n",
              "57 -1  1\n",
              "58  1 -1\n",
              "59 -1 -1\n",
              "60 -1 -1\n",
              "61  1 -1\n",
              "62 -1 -1\n",
              "63  1 -1\n",
              "64  1  1\n",
              "65 -1  1\n",
              "\n",
              "[66 rows x 2 columns]"
            ]
          },
          "metadata": {
            "tags": []
          },
          "execution_count": 47
        }
      ]
    },
    {
      "metadata": {
        "colab_type": "code",
        "id": "Tg-WiVNFvwsS",
        "outputId": "7ef49341-7528-403a-fca1-d09ab01ee66f",
        "colab": {
          "base_uri": "https://localhost:8080/",
          "height": 34
        }
      },
      "cell_type": "code",
      "source": [
        "from sklearn.metrics import accuracy_score\n",
        "score = accuracy_score(real_stock_price_trend, predicted_stock_price_trend)\n",
        "print(score)"
      ],
      "execution_count": 48,
      "outputs": [
        {
          "output_type": "stream",
          "text": [
            "0.5\n"
          ],
          "name": "stdout"
        }
      ]
    },
    {
      "metadata": {
        "colab_type": "code",
        "id": "m5hB6W0Tvzbi",
        "outputId": "d571c9b0-7eae-4b5a-ea1f-dc8e09eae107",
        "colab": {
          "base_uri": "https://localhost:8080/",
          "height": 170
        }
      },
      "cell_type": "code",
      "source": [
        "from sklearn.metrics import classification_report\n",
        "print(classification_report(real_stock_price_trend, predicted_stock_price_trend))"
      ],
      "execution_count": 49,
      "outputs": [
        {
          "output_type": "stream",
          "text": [
            "              precision    recall  f1-score   support\n",
            "\n",
            "          -1       0.54      0.53      0.54        36\n",
            "           1       0.45      0.47      0.46        30\n",
            "\n",
            "   micro avg       0.50      0.50      0.50        66\n",
            "   macro avg       0.50      0.50      0.50        66\n",
            "weighted avg       0.50      0.50      0.50        66\n",
            "\n"
          ],
          "name": "stdout"
        }
      ]
    },
    {
      "metadata": {
        "colab_type": "code",
        "id": "hn0-2hiKQUWS",
        "outputId": "6cf6fbd7-f347-49f2-f625-4c093d78119d",
        "colab": {
          "base_uri": "https://localhost:8080/",
          "height": 34
        }
      },
      "cell_type": "code",
      "source": [
        "from sklearn.metrics import f1_score\n",
        "f1_score(real_stock_price_trend, predicted_stock_price_trend)"
      ],
      "execution_count": 50,
      "outputs": [
        {
          "output_type": "execute_result",
          "data": {
            "text/plain": [
              "0.45901639344262296"
            ]
          },
          "metadata": {
            "tags": []
          },
          "execution_count": 50
        }
      ]
    }
  ]
}